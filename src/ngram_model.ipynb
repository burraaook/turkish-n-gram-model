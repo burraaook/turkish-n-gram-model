{
  "nbformat": 4,
  "nbformat_minor": 0,
  "metadata": {
    "colab": {
      "provenance": []
    },
    "kernelspec": {
      "name": "python3",
      "display_name": "Python 3"
    },
    "language_info": {
      "name": "python"
    }
  },
  "cells": [
    {
      "cell_type": "markdown",
      "source": [
        "Probabilistic N-gram Model\n",
        "---"
      ],
      "metadata": {
        "id": "xLabL9y7T6lU"
      }
    },
    {
      "cell_type": "code",
      "execution_count": 8,
      "metadata": {
        "id": "SHw9riUMGXvR"
      },
      "outputs": [],
      "source": [
        "# import os\n",
        "# import sys\n",
        "# #list the current working dir\n",
        "# os.getcwd()\n",
        "# #change the current working dir\n",
        "# os.chdir('/content/drive/MyDrive')\n",
        "# os.listdir()\n",
        "# os.chdir(\"Colab Notebooks\")\n",
        "# os.chdir(\"src\")"
      ]
    },
    {
      "cell_type": "code",
      "source": [
        "!pip install turkishnlp"
      ],
      "metadata": {
        "colab": {
          "base_uri": "https://localhost:8080/"
        },
        "id": "-LDcKdUOOrTL",
        "outputId": "a14cb8c4-87ab-4f2e-fb97-c5ccc123c25e"
      },
      "execution_count": 9,
      "outputs": [
        {
          "output_type": "stream",
          "name": "stdout",
          "text": [
            "Requirement already satisfied: turkishnlp in /usr/local/lib/python3.10/dist-packages (0.0.61)\n"
          ]
        }
      ]
    },
    {
      "cell_type": "markdown",
      "source": [
        "# In order to train, \"turkish_dump_input\", and \"turkish_dump_test\" files must be in the src directory. Drive links of those files are provided in the report."
      ],
      "metadata": {
        "id": "xljMOsdRbjZ2"
      }
    },
    {
      "cell_type": "code",
      "source": [
        "# use this or next 3 commands for training\n",
        "# %run train_ngrams.py"
      ],
      "metadata": {
        "id": "WakzVCIREvww"
      },
      "execution_count": null,
      "outputs": []
    },
    {
      "cell_type": "code",
      "source": [
        "import unigram\n",
        "unigram.create_unigram()"
      ],
      "metadata": {
        "id": "bcWpuxNVy2GM",
        "colab": {
          "base_uri": "https://localhost:8080/"
        },
        "outputId": "3171486e-dc09-41ae-d842-02e4403eadcd"
      },
      "execution_count": 3,
      "outputs": [
        {
          "output_type": "stream",
          "name": "stdout",
          "text": [
            "size of uni-gram non-zero:  1234\n",
            "size of uni-gram table:  32598\n",
            "calculating probabilities of uni-gram table...\n",
            "size of freq_of_freq:  2192\n"
          ]
        }
      ]
    },
    {
      "cell_type": "code",
      "source": [
        "import bigram\n",
        "bigram.create_bigram()"
      ],
      "metadata": {
        "id": "4tThhYKay62u",
        "colab": {
          "base_uri": "https://localhost:8080/"
        },
        "outputId": "40b12f01-1e58-4c62-de93-252152ae0ea9"
      },
      "execution_count": 4,
      "outputs": [
        {
          "output_type": "stream",
          "name": "stdout",
          "text": [
            "filling bi-gram table...\n",
            "size bi-gram non-zero:  31760\n",
            "calculating probabilities of bi-gram table...\n",
            "size of freq_of_freq:  7415\n"
          ]
        }
      ]
    },
    {
      "cell_type": "code",
      "source": [
        "import trigram\n",
        "trigram.create_trigram_table()"
      ],
      "metadata": {
        "id": "ziwTdrS0y-B0",
        "colab": {
          "base_uri": "https://localhost:8080/"
        },
        "outputId": "e10ca382-fe74-4312-b675-9578278b9a8b"
      },
      "execution_count": 11,
      "outputs": [
        {
          "output_type": "stream",
          "name": "stdout",
          "text": [
            "key1: ((' ', '!'), ' '), key2: (('bo', 'ra'), 'yel'), count: 0\n",
            "key1: (('bo', 'ra'), 'yem'), key2: (('fiz', 'lar'), 'tug'), count: 1\n",
            "key1: (('fiz', 'lar'), 'tuk'), key2: (('kil', 'me'), 'sum'), count: 2\n",
            "key1: (('kil', 'me'), 'sun'), key2: (('mon', 'taj'), 'sa'), count: 3\n",
            "key1: (('mon', 'taj'), 'sab'), key2: (('rez', ' '), 'ran'), count: 4\n",
            "key1: (('rez', ' '), 'rand'), key2: (('ter', ';'), 'nos'), count: 5\n",
            "key1: (('ter', ';'), 'not'), key2: (('zum', 'cu'), 'mir'), count: 6\n",
            "key1: (('zum', 'cu'), 'mis'), key2: (('zur', 'suz'), 'zur'), count: 7\n",
            "handbook: {(((' ', '!'), ' '), (('bo', 'ra'), 'yel')): 0, ((('bo', 'ra'), 'yem'), (('fiz', 'lar'), 'tug')): 1, ((('fiz', 'lar'), 'tuk'), (('kil', 'me'), 'sum')): 2, ((('kil', 'me'), 'sun'), (('mon', 'taj'), 'sa')): 3, ((('mon', 'taj'), 'sab'), (('rez', ' '), 'ran')): 4, ((('rez', ' '), 'rand'), (('ter', ';'), 'nos')): 5, ((('ter', ';'), 'not'), (('zum', 'cu'), 'mir')): 6, ((('zum', 'cu'), 'mis'), (('zur', 'suz'), 'zur')): 7}\n",
            "process started: 0\n",
            "process started: 1\n",
            "process started: 2\n",
            "process started: 3\n",
            "process started: 4\n",
            "process started: 5\n",
            "process started: 6\n",
            "process started: 7\n",
            "size of freq_of_freq:  4801\n",
            "size of freq_of_freq:  2968\n",
            "size of freq_of_freq:  2648\n",
            "size of freq_of_freq:  3130\n",
            "size of freq_of_freq:  2802\n",
            "size of freq_of_freq:  2785\n",
            "size of freq_of_freq:  2791\n",
            "size of freq_of_freq:  147\n",
            "key: (((' ', '!'), ' '), (('bo', 'ra'), 'yel')), value: 0\n"
          ]
        }
      ]
    },
    {
      "cell_type": "markdown",
      "source": [
        "# Without training, perplexity and sentence generator won't work."
      ],
      "metadata": {
        "id": "mH9a5cvtb4Pb"
      }
    },
    {
      "cell_type": "code",
      "source": [
        "%run perplexity.py"
      ],
      "metadata": {
        "colab": {
          "base_uri": "https://localhost:8080/"
        },
        "id": "W-l3Lch4Zfu-",
        "outputId": "15ab0000-24c0-4367-f5ec-bafdb0faf595"
      },
      "execution_count": 12,
      "outputs": [
        {
          "output_type": "stream",
          "name": "stdout",
          "text": [
            "testing unigram...\n",
            "perplexity of unigram:  202.9635363111985\n",
            "testing bigram...\n",
            "perplexity of bigram:  93.63528691138761\n",
            "testing trigram...\n",
            "perlexity of trigram:  82.28023538328674\n"
          ]
        }
      ]
    },
    {
      "cell_type": "code",
      "source": [
        "%run sentence_generator.py"
      ],
      "metadata": {
        "colab": {
          "base_uri": "https://localhost:8080/"
        },
        "id": "NeR9CUZ8cEt7",
        "outputId": "53035dc0-ace7-4282-e0b6-378157063eaa"
      },
      "execution_count": 24,
      "outputs": [
        {
          "output_type": "stream",
          "name": "stdout",
          "text": [
            "testing unigram...\n",
            "sentence of unigram:  jetn ri la la la la le la la ri le la la ri .\n",
            "testing bigram...\n",
            "sentence of bigram:  dithill'nin olanmistir alarak adi.\n",
            "testing trigram...\n",
            "sentence of trigram:  ahaline'ye kanalizasyon sehir tipidir.\n"
          ]
        }
      ]
    },
    {
      "cell_type": "code",
      "source": [
        "import evaluation\n",
        "evaluation.sentence_unigram_fun()"
      ],
      "metadata": {
        "colab": {
          "base_uri": "https://localhost:8080/"
        },
        "id": "clgnVzT-s87F",
        "outputId": "a2c2965c-63ce-4a76-e4c5-b974c4a18f85"
      },
      "execution_count": 14,
      "outputs": [
        {
          "output_type": "stream",
          "name": "stdout",
          "text": [
            "testing unigram...\n",
            "sentence of unigram:  nitf le le le la ri le le ri la .\n"
          ]
        }
      ]
    },
    {
      "cell_type": "code",
      "source": [
        "evaluation.sentence_bigram_fun()"
      ],
      "metadata": {
        "colab": {
          "base_uri": "https://localhost:8080/"
        },
        "id": "G0Qib8fBtHhJ",
        "outputId": "def796ff-fcab-4b68-aaa6-1c556bc1b8ff"
      },
      "execution_count": 21,
      "outputs": [
        {
          "output_type": "stream",
          "name": "stdout",
          "text": [
            "testing bigram...\n",
            "sentence of bigram:  yildad bir alari ile ara ve bir icin ve adi.\n"
          ]
        }
      ]
    },
    {
      "cell_type": "code",
      "source": [
        "evaluation.sentence_trigram_fun()"
      ],
      "metadata": {
        "colab": {
          "base_uri": "https://localhost:8080/"
        },
        "id": "a9orYUIgtJy8",
        "outputId": "b5aea341-fe15-44bc-87db-3e7d9b6e9c7c"
      },
      "execution_count": 22,
      "outputs": [
        {
          "output_type": "stream",
          "name": "stdout",
          "text": [
            "testing trigram...\n",
            "sentence of trigram:  ansiklope'ye kanada'yi bazi yonetmenlere ise olan edildi.\n"
          ]
        }
      ]
    },
    {
      "cell_type": "code",
      "source": [
        "evaluation.perplexity_unigram_fun()"
      ],
      "metadata": {
        "colab": {
          "base_uri": "https://localhost:8080/"
        },
        "id": "JLl1mLsItMNp",
        "outputId": "ea173c91-9c03-4793-c4c6-7e145db792d1"
      },
      "execution_count": 17,
      "outputs": [
        {
          "output_type": "stream",
          "name": "stdout",
          "text": [
            "testing unigram...\n",
            "perplexity of unigram:  202.9635363111985\n"
          ]
        }
      ]
    },
    {
      "cell_type": "code",
      "source": [
        "evaluation.perplexity_bigram_fun()"
      ],
      "metadata": {
        "colab": {
          "base_uri": "https://localhost:8080/"
        },
        "id": "jQlLWPygtRg0",
        "outputId": "5a8c1e63-89a3-41e9-961a-580a57d336b9"
      },
      "execution_count": 18,
      "outputs": [
        {
          "output_type": "stream",
          "name": "stdout",
          "text": [
            "testing bigram...\n",
            "perplexity of bigram:  93.63528691138761\n"
          ]
        }
      ]
    },
    {
      "cell_type": "code",
      "source": [
        "evaluation.perplexity_trigram_fun()"
      ],
      "metadata": {
        "colab": {
          "base_uri": "https://localhost:8080/"
        },
        "id": "sJG54mQttT-N",
        "outputId": "14600227-b4f3-4486-fc12-4531ff9a4443"
      },
      "execution_count": 19,
      "outputs": [
        {
          "output_type": "stream",
          "name": "stdout",
          "text": [
            "testing trigram...\n",
            "perlexity of trigram:  82.28023538328674\n"
          ]
        }
      ]
    },
    {
      "cell_type": "code",
      "source": [
        "# after changing update with this. replace: trigram with the name of the module changed\n",
        "from importlib import reload\n",
        "trigram = reload(trigram)"
      ],
      "metadata": {
        "id": "32N1Jvb0dGQs"
      },
      "execution_count": 20,
      "outputs": []
    }
  ]
}